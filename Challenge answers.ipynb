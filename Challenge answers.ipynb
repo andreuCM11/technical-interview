{
 "cells": [
  {
   "cell_type": "code",
   "execution_count": 7,
   "metadata": {},
   "outputs": [],
   "source": [
    "import pandas as pd\n",
    "import numpy as np\n",
    "import matplotlib.pyplot as plt\n",
    "import json"
   ]
  },
  {
   "cell_type": "markdown",
   "metadata": {},
   "source": [
    "## Part 1 answer"
   ]
  },
  {
   "cell_type": "markdown",
   "metadata": {},
   "source": [
    "The AirBnB challenge has two main part that I'd work with:\n",
    "- Statistical analyis from background data.\n",
    "- Performing an A/B testing to confirm if the professional pictures are still impacting on higher bookings."
   ]
  },
  {
   "cell_type": "markdown",
   "metadata": {},
   "source": [
    "### Satistical Analysis"
   ]
  },
  {
   "cell_type": "markdown",
   "metadata": {},
   "source": [
    "First I'd gather all past data and I'd cross it with dates of previous launches. For that I'd use pandas and numpy to clean and prepare the data and then matplotlib or tableau to visualizes the data and show the main insights."
   ]
  },
  {
   "cell_type": "markdown",
   "metadata": {},
   "source": [
    "Once I'm performing the analysis I'd look for correlation between the companies actions and the converstion rate following that action.\n",
    "The most important thing would be to see if those apartments with professional pictures are seeing a decrease in booking after:\n",
    "- 2013's Launch of identity verification for hosts and guests.\n",
    "- 2014's Launch of double blind reviews (neither host nor guest can see the other’s review), ensuring more honest reviews of properties and hosts.\n",
    "- 2015's Global PR lift for AirBnB, raising the profile of the company."
   ]
  },
  {
   "cell_type": "markdown",
   "metadata": {},
   "source": [
    "In addition I'd also look into those aparments since smartphones have become so popular.\n",
    "All of these will give me a good idea about how AirBnB customers and hosts work and how they're affected by interternal action and external factors.\n",
    "If with all that we don't have enough information, I'd cluster the customers database using unsupervised machine learning model such as KMeans to know the companies target better."
   ]
  },
  {
   "cell_type": "markdown",
   "metadata": {},
   "source": [
    "Once I'd have all the information I'd need, I'd draw my conclusions to know what to explect from the following A/B test."
   ]
  },
  {
   "cell_type": "markdown",
   "metadata": {},
   "source": [
    "### A/B Test"
   ]
  },
  {
   "cell_type": "markdown",
   "metadata": {},
   "source": [
    "An A/B test is a user experience research methodology that consists in a randomized experiment with two variants. First you send different variants to your clients and then, via statistical hypothesis testing, you decide which one perform best and, therefore, you're going to use. Here's a simplified picture that show's the test."
   ]
  },
  {
   "cell_type": "markdown",
   "metadata": {},
   "source": [
    "<img src=\"data/AB-Testing.png\" style=\"width: 400px\">"
   ]
  },
  {
   "cell_type": "markdown",
   "metadata": {},
   "source": [
    "In our case, first we would pick few demanded apartments randomly, we would make professional pictures of them and we would only show it to a random portion of our clients, we would call this variant A. \n",
    "Then we would take smartphone low quality pictures of the same apartments and we would show them to another random sample of our customers, wwe would call this variant B.\n",
    "Once the test is on going, we might want to do it for different cities and customer clusters (given we performed the KMeans and now we have the customers clustered) to avoid bias in our results."
   ]
  },
  {
   "cell_type": "markdown",
   "metadata": {},
   "source": [
    "Once certain amount of time has past (depending on the circumstances, for example now we would need to wait a lot since people is not travelling), we would look at the results and using statistical hypothesis testing we would decide if the difference between professional photos and regular smartphone pictures is big enough to explain the resources consumpiton that the service mean to the company. The null hypothesis would be that it's worth it and we would try to reject it. In doing so we would accept that this is not worth the money expenditure and we'd proceed to stop the service from now on."
   ]
  },
  {
   "cell_type": "markdown",
   "metadata": {},
   "source": [
    "## Part 2 answer"
   ]
  },
  {
   "cell_type": "code",
   "execution_count": 9,
   "metadata": {},
   "outputs": [
    {
     "data": {
      "text/plain": [
       "<_io.TextIOWrapper name='data/intervals_challenge.json' mode='r' encoding='cp1252'>"
      ]
     },
     "execution_count": 9,
     "metadata": {},
     "output_type": "execute_result"
    }
   ],
   "source": [
    "data = open('data/intervals_challenge.json')\n",
    "data"
   ]
  },
  {
   "cell_type": "code",
   "execution_count": null,
   "metadata": {},
   "outputs": [],
   "source": []
  },
  {
   "cell_type": "code",
   "execution_count": null,
   "metadata": {},
   "outputs": [],
   "source": []
  }
 ],
 "metadata": {
  "kernelspec": {
   "display_name": "Python 3",
   "language": "python",
   "name": "python3"
  },
  "language_info": {
   "codemirror_mode": {
    "name": "ipython",
    "version": 3
   },
   "file_extension": ".py",
   "mimetype": "text/x-python",
   "name": "python",
   "nbconvert_exporter": "python",
   "pygments_lexer": "ipython3",
   "version": "3.7.7"
  }
 },
 "nbformat": 4,
 "nbformat_minor": 4
}
